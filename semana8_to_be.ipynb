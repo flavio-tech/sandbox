{
 "cells": [
  {
   "cell_type": "code",
   "execution_count": 1,
   "metadata": {},
   "outputs": [],
   "source": [
    "import pandas as pd\n",
    "from sklearn.feature_selection import SelectKBest, SelectPercentile, f_regression\n",
    "from sklearn.metrics import mean_absolute_error, r2_score\n",
    "from sklearn.ensemble import RandomForestRegressor\n",
    "from sklearn.linear_model import LinearRegression\n",
    "from tpot import TPOTRegressor"
   ]
  },
  {
   "cell_type": "code",
   "execution_count": 2,
   "metadata": {},
   "outputs": [],
   "source": [
    "df_train = pd.read_csv('train.csv')\n",
    "df_test = pd.read_csv('test.csv')"
   ]
  },
  {
   "cell_type": "code",
   "execution_count": 3,
   "metadata": {},
   "outputs": [
    {
     "data": {
      "text/plain": [
       "NU_INSCRICAO              0.000000\n",
       "CO_UF_RESIDENCIA          0.000000\n",
       "SG_UF_RESIDENCIA          0.000000\n",
       "NU_IDADE                  0.000000\n",
       "TP_SEXO                   0.000000\n",
       "TP_COR_RACA               0.000000\n",
       "TP_NACIONALIDADE          0.000000\n",
       "TP_ST_CONCLUSAO           0.000000\n",
       "TP_ANO_CONCLUIU           0.000000\n",
       "TP_ESCOLA                 0.000000\n",
       "TP_ENSINO                 0.676573\n",
       "IN_TREINEIRO              0.000000\n",
       "TP_DEPENDENCIA_ADM_ESC    0.676573\n",
       "IN_BAIXA_VISAO            0.000000\n",
       "IN_CEGUEIRA               0.000000\n",
       "IN_SURDEZ                 0.000000\n",
       "IN_DISLEXIA               0.000000\n",
       "IN_DISCALCULIA            0.000000\n",
       "IN_SABATISTA              0.000000\n",
       "IN_GESTANTE               0.000000\n",
       "IN_IDOSO                  0.000000\n",
       "TP_PRESENCA_CN            0.000000\n",
       "TP_PRESENCA_CH            0.000000\n",
       "TP_PRESENCA_LC            0.000000\n",
       "CO_PROVA_CN               0.000000\n",
       "CO_PROVA_CH               0.000000\n",
       "CO_PROVA_LC               0.000000\n",
       "CO_PROVA_MT               0.000000\n",
       "NU_NOTA_CN                0.247815\n",
       "NU_NOTA_CH                0.247815\n",
       "NU_NOTA_LC                0.262019\n",
       "TP_LINGUA                 0.000000\n",
       "TP_STATUS_REDACAO         0.262019\n",
       "NU_NOTA_COMP1             0.262019\n",
       "NU_NOTA_COMP2             0.262019\n",
       "NU_NOTA_COMP3             0.262019\n",
       "NU_NOTA_COMP4             0.262019\n",
       "NU_NOTA_COMP5             0.262019\n",
       "NU_NOTA_REDACAO           0.262019\n",
       "Q001                      0.000000\n",
       "Q002                      0.000000\n",
       "Q006                      0.000000\n",
       "Q024                      0.000000\n",
       "Q025                      0.000000\n",
       "Q026                      0.000000\n",
       "Q027                      0.543706\n",
       "Q047                      0.000000\n",
       "dtype: float64"
      ]
     },
     "execution_count": 3,
     "metadata": {},
     "output_type": "execute_result"
    }
   ],
   "source": [
    "df_test.isna().mean()"
   ]
  },
  {
   "cell_type": "code",
   "execution_count": 4,
   "metadata": {},
   "outputs": [],
   "source": [
    "# drop columas com mais de 50% de dados faltantes\n",
    "# e mais umas divergentes para one-hot encoding\n",
    "\n",
    "df_test.drop(['TP_ENSINO', 'TP_DEPENDENCIA_ADM_ESC', 'Q027','CO_PROVA_CN', 'CO_PROVA_CH'], axis=1, inplace=True)\n"
   ]
  },
  {
   "cell_type": "code",
   "execution_count": 5,
   "metadata": {},
   "outputs": [
    {
     "data": {
      "text/plain": [
       "['NU_INSCRICAO',\n",
       " 'CO_UF_RESIDENCIA',\n",
       " 'SG_UF_RESIDENCIA',\n",
       " 'NU_IDADE',\n",
       " 'TP_SEXO',\n",
       " 'TP_COR_RACA',\n",
       " 'TP_NACIONALIDADE',\n",
       " 'TP_ST_CONCLUSAO',\n",
       " 'TP_ANO_CONCLUIU',\n",
       " 'TP_ESCOLA',\n",
       " 'IN_TREINEIRO',\n",
       " 'IN_BAIXA_VISAO',\n",
       " 'IN_CEGUEIRA',\n",
       " 'IN_SURDEZ',\n",
       " 'IN_DISLEXIA',\n",
       " 'IN_DISCALCULIA',\n",
       " 'IN_SABATISTA',\n",
       " 'IN_GESTANTE',\n",
       " 'IN_IDOSO',\n",
       " 'TP_PRESENCA_CN',\n",
       " 'TP_PRESENCA_CH',\n",
       " 'TP_PRESENCA_LC',\n",
       " 'CO_PROVA_LC',\n",
       " 'CO_PROVA_MT',\n",
       " 'NU_NOTA_CN',\n",
       " 'NU_NOTA_CH',\n",
       " 'NU_NOTA_LC',\n",
       " 'TP_LINGUA',\n",
       " 'TP_STATUS_REDACAO',\n",
       " 'NU_NOTA_COMP1',\n",
       " 'NU_NOTA_COMP2',\n",
       " 'NU_NOTA_COMP3',\n",
       " 'NU_NOTA_COMP4',\n",
       " 'NU_NOTA_COMP5',\n",
       " 'NU_NOTA_REDACAO',\n",
       " 'Q001',\n",
       " 'Q002',\n",
       " 'Q006',\n",
       " 'Q024',\n",
       " 'Q025',\n",
       " 'Q026',\n",
       " 'Q047',\n",
       " 'NU_NOTA_MT']"
      ]
     },
     "execution_count": 5,
     "metadata": {},
     "output_type": "execute_result"
    }
   ],
   "source": [
    "features = df_test.columns.to_list()\n",
    "features.append('NU_NOTA_MT')\n",
    "features"
   ]
  },
  {
   "cell_type": "code",
   "execution_count": 6,
   "metadata": {},
   "outputs": [
    {
     "data": {
      "text/plain": [
       "43"
      ]
     },
     "execution_count": 6,
     "metadata": {},
     "output_type": "execute_result"
    }
   ],
   "source": [
    "len(features)"
   ]
  },
  {
   "cell_type": "code",
   "execution_count": 7,
   "metadata": {},
   "outputs": [],
   "source": [
    "# ajuste no DF treino\n",
    "\n",
    "df_train = df_train[features]"
   ]
  },
  {
   "cell_type": "code",
   "execution_count": 8,
   "metadata": {},
   "outputs": [
    {
     "data": {
      "text/plain": [
       "NU_INSCRICAO         0.000000\n",
       "CO_UF_RESIDENCIA     0.000000\n",
       "SG_UF_RESIDENCIA     0.000000\n",
       "NU_IDADE             0.000000\n",
       "TP_SEXO              0.000000\n",
       "TP_COR_RACA          0.000000\n",
       "TP_NACIONALIDADE     0.000000\n",
       "TP_ST_CONCLUSAO      0.000000\n",
       "TP_ANO_CONCLUIU      0.000000\n",
       "TP_ESCOLA            0.000000\n",
       "IN_TREINEIRO         0.000000\n",
       "IN_BAIXA_VISAO       0.000000\n",
       "IN_CEGUEIRA          0.000000\n",
       "IN_SURDEZ            0.000000\n",
       "IN_DISLEXIA          0.000000\n",
       "IN_DISCALCULIA       0.000000\n",
       "IN_SABATISTA         0.000000\n",
       "IN_GESTANTE          0.000000\n",
       "IN_IDOSO             0.000000\n",
       "TP_PRESENCA_CN       0.000000\n",
       "TP_PRESENCA_CH       0.000000\n",
       "TP_PRESENCA_LC       0.000000\n",
       "CO_PROVA_LC          0.000000\n",
       "CO_PROVA_MT          0.000000\n",
       "NU_NOTA_CN           0.246832\n",
       "NU_NOTA_CH           0.246832\n",
       "NU_NOTA_LC           0.261981\n",
       "TP_LINGUA            0.000000\n",
       "TP_STATUS_REDACAO    0.261981\n",
       "NU_NOTA_COMP1        0.261981\n",
       "NU_NOTA_COMP2        0.261981\n",
       "NU_NOTA_COMP3        0.261981\n",
       "NU_NOTA_COMP4        0.261981\n",
       "NU_NOTA_COMP5        0.261981\n",
       "NU_NOTA_REDACAO      0.261981\n",
       "Q001                 0.000000\n",
       "Q002                 0.000000\n",
       "Q006                 0.000000\n",
       "Q024                 0.000000\n",
       "Q025                 0.000000\n",
       "Q026                 0.000000\n",
       "Q047                 0.000000\n",
       "NU_NOTA_MT           0.261981\n",
       "dtype: float64"
      ]
     },
     "execution_count": 8,
     "metadata": {},
     "output_type": "execute_result"
    }
   ],
   "source": [
    "df_train.isna().mean()"
   ]
  },
  {
   "cell_type": "code",
   "execution_count": 50,
   "metadata": {},
   "outputs": [
    {
     "data": {
      "text/plain": [
       "0"
      ]
     },
     "execution_count": 50,
     "metadata": {},
     "output_type": "execute_result"
    }
   ],
   "source": [
    "# drop linhas que contem nulos\n",
    "df_train.dropna(axis=0, inplace=True)\n",
    "df_test.dropna(axis=0, inplace=True)\n",
    "df_train.NU_INSCRICAO.isna().sum()"
   ]
  },
  {
   "cell_type": "code",
   "execution_count": 10,
   "metadata": {},
   "outputs": [],
   "source": [
    "y_train = df_train['NU_NOTA_MT']"
   ]
  },
  {
   "cell_type": "code",
   "execution_count": 11,
   "metadata": {},
   "outputs": [],
   "source": [
    "df_train.drop(['NU_NOTA_MT'], axis=1, inplace=True)"
   ]
  },
  {
   "cell_type": "code",
   "execution_count": 12,
   "metadata": {},
   "outputs": [
    {
     "data": {
      "text/plain": [
       "['NU_INSCRICAO',\n",
       " 'CO_UF_RESIDENCIA',\n",
       " 'SG_UF_RESIDENCIA',\n",
       " 'NU_IDADE',\n",
       " 'TP_SEXO',\n",
       " 'TP_COR_RACA',\n",
       " 'TP_NACIONALIDADE',\n",
       " 'TP_ST_CONCLUSAO',\n",
       " 'TP_ANO_CONCLUIU',\n",
       " 'TP_ESCOLA',\n",
       " 'IN_TREINEIRO',\n",
       " 'IN_BAIXA_VISAO',\n",
       " 'IN_CEGUEIRA',\n",
       " 'IN_SURDEZ',\n",
       " 'IN_DISLEXIA',\n",
       " 'IN_DISCALCULIA',\n",
       " 'IN_SABATISTA',\n",
       " 'IN_GESTANTE',\n",
       " 'IN_IDOSO',\n",
       " 'TP_PRESENCA_CN',\n",
       " 'TP_PRESENCA_CH',\n",
       " 'TP_PRESENCA_LC',\n",
       " 'CO_PROVA_LC',\n",
       " 'CO_PROVA_MT',\n",
       " 'NU_NOTA_CN',\n",
       " 'NU_NOTA_CH',\n",
       " 'NU_NOTA_LC',\n",
       " 'TP_LINGUA',\n",
       " 'TP_STATUS_REDACAO',\n",
       " 'NU_NOTA_COMP1',\n",
       " 'NU_NOTA_COMP2',\n",
       " 'NU_NOTA_COMP3',\n",
       " 'NU_NOTA_COMP4',\n",
       " 'NU_NOTA_COMP5',\n",
       " 'NU_NOTA_REDACAO',\n",
       " 'Q001',\n",
       " 'Q002',\n",
       " 'Q006',\n",
       " 'Q024',\n",
       " 'Q025',\n",
       " 'Q026',\n",
       " 'Q047']"
      ]
     },
     "execution_count": 12,
     "metadata": {},
     "output_type": "execute_result"
    }
   ],
   "source": [
    "train_columns = df_train.columns.to_list()\n",
    "train_columns"
   ]
  },
  {
   "cell_type": "code",
   "execution_count": 13,
   "metadata": {},
   "outputs": [
    {
     "data": {
      "text/plain": [
       "['NU_INSCRICAO',\n",
       " 'CO_UF_RESIDENCIA',\n",
       " 'SG_UF_RESIDENCIA',\n",
       " 'NU_IDADE',\n",
       " 'TP_SEXO',\n",
       " 'TP_COR_RACA',\n",
       " 'TP_NACIONALIDADE',\n",
       " 'TP_ST_CONCLUSAO',\n",
       " 'TP_ANO_CONCLUIU',\n",
       " 'TP_ESCOLA',\n",
       " 'IN_TREINEIRO',\n",
       " 'IN_BAIXA_VISAO',\n",
       " 'IN_CEGUEIRA',\n",
       " 'IN_SURDEZ',\n",
       " 'IN_DISLEXIA',\n",
       " 'IN_DISCALCULIA',\n",
       " 'IN_SABATISTA',\n",
       " 'IN_GESTANTE',\n",
       " 'IN_IDOSO',\n",
       " 'TP_PRESENCA_CN',\n",
       " 'TP_PRESENCA_CH',\n",
       " 'TP_PRESENCA_LC',\n",
       " 'CO_PROVA_LC',\n",
       " 'CO_PROVA_MT',\n",
       " 'NU_NOTA_CN',\n",
       " 'NU_NOTA_CH',\n",
       " 'NU_NOTA_LC',\n",
       " 'TP_LINGUA',\n",
       " 'TP_STATUS_REDACAO',\n",
       " 'NU_NOTA_COMP1',\n",
       " 'NU_NOTA_COMP2',\n",
       " 'NU_NOTA_COMP3',\n",
       " 'NU_NOTA_COMP4',\n",
       " 'NU_NOTA_COMP5',\n",
       " 'NU_NOTA_REDACAO',\n",
       " 'Q001',\n",
       " 'Q002',\n",
       " 'Q006',\n",
       " 'Q024',\n",
       " 'Q025',\n",
       " 'Q026',\n",
       " 'Q047']"
      ]
     },
     "execution_count": 13,
     "metadata": {},
     "output_type": "execute_result"
    }
   ],
   "source": [
    "test_columns = df_test.columns.to_list()\n",
    "test_columns"
   ]
  },
  {
   "cell_type": "code",
   "execution_count": 14,
   "metadata": {},
   "outputs": [
    {
     "data": {
      "text/plain": [
       "True"
      ]
     },
     "execution_count": 14,
     "metadata": {},
     "output_type": "execute_result"
    }
   ],
   "source": [
    "train_columns == test_columns"
   ]
  },
  {
   "cell_type": "code",
   "execution_count": 15,
   "metadata": {},
   "outputs": [
    {
     "data": {
      "text/plain": [
       "NU_INSCRICAO         0.0\n",
       "CO_UF_RESIDENCIA     0.0\n",
       "SG_UF_RESIDENCIA     0.0\n",
       "NU_IDADE             0.0\n",
       "TP_SEXO              0.0\n",
       "TP_COR_RACA          0.0\n",
       "TP_NACIONALIDADE     0.0\n",
       "TP_ST_CONCLUSAO      0.0\n",
       "TP_ANO_CONCLUIU      0.0\n",
       "TP_ESCOLA            0.0\n",
       "IN_TREINEIRO         0.0\n",
       "IN_BAIXA_VISAO       0.0\n",
       "IN_CEGUEIRA          0.0\n",
       "IN_SURDEZ            0.0\n",
       "IN_DISLEXIA          0.0\n",
       "IN_DISCALCULIA       0.0\n",
       "IN_SABATISTA         0.0\n",
       "IN_GESTANTE          0.0\n",
       "IN_IDOSO             0.0\n",
       "TP_PRESENCA_CN       0.0\n",
       "TP_PRESENCA_CH       0.0\n",
       "TP_PRESENCA_LC       0.0\n",
       "CO_PROVA_LC          0.0\n",
       "CO_PROVA_MT          0.0\n",
       "NU_NOTA_CN           0.0\n",
       "NU_NOTA_CH           0.0\n",
       "NU_NOTA_LC           0.0\n",
       "TP_LINGUA            0.0\n",
       "TP_STATUS_REDACAO    0.0\n",
       "NU_NOTA_COMP1        0.0\n",
       "NU_NOTA_COMP2        0.0\n",
       "NU_NOTA_COMP3        0.0\n",
       "NU_NOTA_COMP4        0.0\n",
       "NU_NOTA_COMP5        0.0\n",
       "NU_NOTA_REDACAO      0.0\n",
       "Q001                 0.0\n",
       "Q002                 0.0\n",
       "Q006                 0.0\n",
       "Q024                 0.0\n",
       "Q025                 0.0\n",
       "Q026                 0.0\n",
       "Q047                 0.0\n",
       "dtype: float64"
      ]
     },
     "execution_count": 15,
     "metadata": {},
     "output_type": "execute_result"
    }
   ],
   "source": [
    "df_train.isna().mean()"
   ]
  },
  {
   "cell_type": "code",
   "execution_count": 16,
   "metadata": {},
   "outputs": [
    {
     "data": {
      "text/plain": [
       "NU_INSCRICAO          object\n",
       "CO_UF_RESIDENCIA       int64\n",
       "SG_UF_RESIDENCIA      object\n",
       "NU_IDADE               int64\n",
       "TP_SEXO               object\n",
       "TP_COR_RACA            int64\n",
       "TP_NACIONALIDADE       int64\n",
       "TP_ST_CONCLUSAO        int64\n",
       "TP_ANO_CONCLUIU        int64\n",
       "TP_ESCOLA              int64\n",
       "IN_TREINEIRO           int64\n",
       "IN_BAIXA_VISAO         int64\n",
       "IN_CEGUEIRA            int64\n",
       "IN_SURDEZ              int64\n",
       "IN_DISLEXIA            int64\n",
       "IN_DISCALCULIA         int64\n",
       "IN_SABATISTA           int64\n",
       "IN_GESTANTE            int64\n",
       "IN_IDOSO               int64\n",
       "TP_PRESENCA_CN         int64\n",
       "TP_PRESENCA_CH         int64\n",
       "TP_PRESENCA_LC         int64\n",
       "CO_PROVA_LC           object\n",
       "CO_PROVA_MT           object\n",
       "NU_NOTA_CN           float64\n",
       "NU_NOTA_CH           float64\n",
       "NU_NOTA_LC           float64\n",
       "TP_LINGUA              int64\n",
       "TP_STATUS_REDACAO    float64\n",
       "NU_NOTA_COMP1        float64\n",
       "NU_NOTA_COMP2        float64\n",
       "NU_NOTA_COMP3        float64\n",
       "NU_NOTA_COMP4        float64\n",
       "NU_NOTA_COMP5        float64\n",
       "NU_NOTA_REDACAO      float64\n",
       "Q001                  object\n",
       "Q002                  object\n",
       "Q006                  object\n",
       "Q024                  object\n",
       "Q025                  object\n",
       "Q026                  object\n",
       "Q047                  object\n",
       "dtype: object"
      ]
     },
     "execution_count": 16,
     "metadata": {},
     "output_type": "execute_result"
    }
   ],
   "source": [
    "df_test.dtypes"
   ]
  },
  {
   "cell_type": "code",
   "execution_count": 17,
   "metadata": {},
   "outputs": [],
   "source": [
    "#print(len(df_test.CO_PROVA_CH.unique()))\n",
    "#print('\\n')\n",
    "#print(len(df_train.CO_PROVA_CH.unique()))\n"
   ]
  },
  {
   "cell_type": "code",
   "execution_count": 18,
   "metadata": {},
   "outputs": [],
   "source": [
    "#df_test.dtypes"
   ]
  },
  {
   "cell_type": "code",
   "execution_count": 19,
   "metadata": {},
   "outputs": [
    {
     "data": {
      "text/plain": [
       "NU_INSCRICAO          object\n",
       "CO_UF_RESIDENCIA       int64\n",
       "SG_UF_RESIDENCIA      object\n",
       "NU_IDADE               int64\n",
       "TP_SEXO               object\n",
       "TP_COR_RACA            int64\n",
       "TP_NACIONALIDADE       int64\n",
       "TP_ST_CONCLUSAO        int64\n",
       "TP_ANO_CONCLUIU        int64\n",
       "TP_ESCOLA              int64\n",
       "IN_TREINEIRO           int64\n",
       "IN_BAIXA_VISAO         int64\n",
       "IN_CEGUEIRA            int64\n",
       "IN_SURDEZ              int64\n",
       "IN_DISLEXIA            int64\n",
       "IN_DISCALCULIA         int64\n",
       "IN_SABATISTA           int64\n",
       "IN_GESTANTE            int64\n",
       "IN_IDOSO               int64\n",
       "TP_PRESENCA_CN         int64\n",
       "TP_PRESENCA_CH         int64\n",
       "TP_PRESENCA_LC         int64\n",
       "CO_PROVA_LC           object\n",
       "CO_PROVA_MT           object\n",
       "NU_NOTA_CN           float64\n",
       "NU_NOTA_CH           float64\n",
       "NU_NOTA_LC           float64\n",
       "TP_LINGUA              int64\n",
       "TP_STATUS_REDACAO    float64\n",
       "NU_NOTA_COMP1        float64\n",
       "NU_NOTA_COMP2        float64\n",
       "NU_NOTA_COMP3        float64\n",
       "NU_NOTA_COMP4        float64\n",
       "NU_NOTA_COMP5        float64\n",
       "NU_NOTA_REDACAO      float64\n",
       "Q001                  object\n",
       "Q002                  object\n",
       "Q006                  object\n",
       "Q024                  object\n",
       "Q025                  object\n",
       "Q026                  object\n",
       "Q047                  object\n",
       "dtype: object"
      ]
     },
     "execution_count": 19,
     "metadata": {},
     "output_type": "execute_result"
    }
   ],
   "source": [
    "df_train.dtypes"
   ]
  },
  {
   "cell_type": "code",
   "execution_count": 20,
   "metadata": {},
   "outputs": [
    {
     "name": "stdout",
     "output_type": "stream",
     "text": [
      "0\n",
      "\n",
      "\n",
      "0\n"
     ]
    }
   ],
   "source": [
    "print(df_test.NU_INSCRICAO.isna().sum())\n",
    "print('\\n')\n",
    "print(df_train.NU_INSCRICAO.isna().sum())\n"
   ]
  },
  {
   "cell_type": "code",
   "execution_count": 21,
   "metadata": {},
   "outputs": [
    {
     "data": {
      "text/plain": [
       "42"
      ]
     },
     "execution_count": 21,
     "metadata": {},
     "output_type": "execute_result"
    }
   ],
   "source": [
    "len(df_train.columns)"
   ]
  },
  {
   "cell_type": "code",
   "execution_count": 22,
   "metadata": {},
   "outputs": [
    {
     "data": {
      "text/plain": [
       "(10097, 42)"
      ]
     },
     "execution_count": 22,
     "metadata": {},
     "output_type": "execute_result"
    }
   ],
   "source": [
    "df_train.shape"
   ]
  },
  {
   "cell_type": "code",
   "execution_count": 23,
   "metadata": {},
   "outputs": [],
   "source": [
    "#df_train.drop(['CO_PROVA_CN', 'CO_PROVA_CH'], axis=1, inplace=True)\n",
    "#df_test.drop(['CO_PROVA_CN', 'CO_PROVA_CH'], axis=1, inplace=True)\n",
    "\n",
    "to_encode = ['TP_SEXO', 'TP_COR_RACA', 'Q001', 'Q002', 'Q006', 'Q024', 'Q025', 'Q026', 'Q047']\n",
    "\n",
    "test_nu_inscricao = df_test['NU_INSCRICAO']\n",
    "#df_train = pd.get_dummies(df_train, columns=to_encode, drop_first=True)\n",
    "#df_test = pd.get_dummies(df_test, columns=to_encode, drop_first=True)\n",
    "\n",
    "#df_train = pd.get_dummies(df_train).values\n",
    "#df_test = pd.get_dummies(df_test).values"
   ]
  },
  {
   "cell_type": "code",
   "execution_count": 51,
   "metadata": {},
   "outputs": [
    {
     "data": {
      "text/plain": [
       "0"
      ]
     },
     "execution_count": 51,
     "metadata": {},
     "output_type": "execute_result"
    }
   ],
   "source": [
    "test_nu_inscricao.isna().sum()"
   ]
  },
  {
   "cell_type": "code",
   "execution_count": 24,
   "metadata": {},
   "outputs": [
    {
     "data": {
      "text/plain": [
       "(10097, 42)"
      ]
     },
     "execution_count": 24,
     "metadata": {},
     "output_type": "execute_result"
    }
   ],
   "source": [
    "df_train.shape"
   ]
  },
  {
   "cell_type": "code",
   "execution_count": 25,
   "metadata": {},
   "outputs": [
    {
     "data": {
      "text/plain": [
       "(3360,)"
      ]
     },
     "execution_count": 25,
     "metadata": {},
     "output_type": "execute_result"
    }
   ],
   "source": [
    "test_nu_inscricao.shape"
   ]
  },
  {
   "cell_type": "code",
   "execution_count": 26,
   "metadata": {},
   "outputs": [
    {
     "data": {
      "text/plain": [
       "(10097,)"
      ]
     },
     "execution_count": 26,
     "metadata": {},
     "output_type": "execute_result"
    }
   ],
   "source": [
    "y_train.shape"
   ]
  },
  {
   "cell_type": "code",
   "execution_count": 27,
   "metadata": {},
   "outputs": [
    {
     "data": {
      "text/plain": [
       "True"
      ]
     },
     "execution_count": 27,
     "metadata": {},
     "output_type": "execute_result"
    }
   ],
   "source": [
    "train_columns = df_train.columns.to_list()\n",
    "test_columns = df_test.columns.to_list()\n",
    "train_columns == test_columns"
   ]
  },
  {
   "cell_type": "code",
   "execution_count": 28,
   "metadata": {},
   "outputs": [
    {
     "data": {
      "text/plain": [
       "42"
      ]
     },
     "execution_count": 28,
     "metadata": {},
     "output_type": "execute_result"
    }
   ],
   "source": [
    "len(train_columns)"
   ]
  },
  {
   "cell_type": "code",
   "execution_count": 29,
   "metadata": {},
   "outputs": [
    {
     "data": {
      "text/plain": [
       "(10097, 42)"
      ]
     },
     "execution_count": 29,
     "metadata": {},
     "output_type": "execute_result"
    }
   ],
   "source": [
    "df_train.shape"
   ]
  },
  {
   "cell_type": "code",
   "execution_count": 30,
   "metadata": {},
   "outputs": [
    {
     "name": "stderr",
     "output_type": "stream",
     "text": [
      "C:\\ProgramData\\Anaconda3\\lib\\site-packages\\sklearn\\feature_selection\\univariate_selection.py:299: RuntimeWarning: divide by zero encountered in true_divide\n",
      "  corr /= X_norms\n",
      "C:\\ProgramData\\Anaconda3\\lib\\site-packages\\sklearn\\feature_selection\\univariate_selection.py:299: RuntimeWarning: invalid value encountered in true_divide\n",
      "  corr /= X_norms\n",
      "C:\\ProgramData\\Anaconda3\\lib\\site-packages\\sklearn\\feature_selection\\univariate_selection.py:304: RuntimeWarning: invalid value encountered in true_divide\n",
      "  F = corr ** 2 / (1 - corr ** 2) * degrees_of_freedom\n",
      "C:\\ProgramData\\Anaconda3\\lib\\site-packages\\scipy\\stats\\_distn_infrastructure.py:901: RuntimeWarning: invalid value encountered in greater\n",
      "  return (a < x) & (x < b)\n",
      "C:\\ProgramData\\Anaconda3\\lib\\site-packages\\scipy\\stats\\_distn_infrastructure.py:901: RuntimeWarning: invalid value encountered in less\n",
      "  return (a < x) & (x < b)\n",
      "C:\\ProgramData\\Anaconda3\\lib\\site-packages\\scipy\\stats\\_distn_infrastructure.py:1892: RuntimeWarning: invalid value encountered in less_equal\n",
      "  cond2 = cond0 & (x <= _a)\n"
     ]
    },
    {
     "name": "stdout",
     "output_type": "stream",
     "text": [
      "k = 17 - R2 mdl = 0.9193790414572439\n",
      "k = 17 - R2 reg = 0.4072999761827527\n"
     ]
    }
   ],
   "source": [
    "k_vs_reg = []\n",
    "k_vs_mdl = []\n",
    "\n",
    "\n",
    "#for k in range(2, 78, 2):\n",
    "k=17\n",
    "selector = SelectKBest(score_func=f_regression, k=k)\n",
    "\n",
    "Xtrain2 = selector.fit_transform(df_train._get_numeric_data(), y_train)\n",
    "Xval2 = selector.transform(df_test._get_numeric_data())\n",
    "\n",
    "# random forest model\n",
    "mdl = RandomForestRegressor(n_estimators=100, n_jobs=-1, random_state=0)\n",
    "mdl.fit(Xtrain2, y_train)\n",
    "p = mdl.predict(Xval2)\n",
    "\n",
    "# regression\n",
    "reg = LinearRegression(normalize=True).fit(Xtrain2, y_train)\n",
    "regres = reg.predict(Xval2)\n",
    "\n",
    "# calculo do erro de predição\n",
    "#    score_mdl = mean_absolute_error(mdl.predict(Xtrain2), y_train)\n",
    "#    score_reg = mean_absolute_error(reg.predict(Xtrain2), y_train)\n",
    "\n",
    "# calculo do erro de predição r2_score\n",
    "score_mdl = r2_score(y_train, mdl.predict(Xtrain2))\n",
    "score_reg = r2_score(y_train, reg.predict(Xtrain2), )\n",
    "\n",
    "\n",
    "print('k = {} - R2 mdl = {}'.format(k, score_mdl))\n",
    "print('k = {} - R2 reg = {}'.format(k, score_reg))\n",
    "\n",
    "k_vs_reg.append(score_reg)\n",
    "k_vs_mdl.append(score_mdl)"
   ]
  },
  {
   "cell_type": "code",
   "execution_count": 31,
   "metadata": {},
   "outputs": [
    {
     "ename": "ValueError",
     "evalue": "Length of passed values is 1, index implies 38",
     "output_type": "error",
     "traceback": [
      "\u001b[1;31m---------------------------------------------------------------------------\u001b[0m",
      "\u001b[1;31mValueError\u001b[0m                                Traceback (most recent call last)",
      "\u001b[1;32m<ipython-input-31-dc0338f54e15>\u001b[0m in \u001b[0;36m<module>\u001b[1;34m\u001b[0m\n\u001b[0;32m      1\u001b[0m \u001b[0mget_ipython\u001b[0m\u001b[1;33m(\u001b[0m\u001b[1;33m)\u001b[0m\u001b[1;33m.\u001b[0m\u001b[0mrun_line_magic\u001b[0m\u001b[1;33m(\u001b[0m\u001b[1;34m'matplotlib'\u001b[0m\u001b[1;33m,\u001b[0m \u001b[1;34m'inline'\u001b[0m\u001b[1;33m)\u001b[0m\u001b[1;33m\u001b[0m\u001b[1;33m\u001b[0m\u001b[0m\n\u001b[1;32m----> 2\u001b[1;33m \u001b[0mpd\u001b[0m\u001b[1;33m.\u001b[0m\u001b[0mSeries\u001b[0m\u001b[1;33m(\u001b[0m\u001b[0mk_vs_mdl\u001b[0m\u001b[1;33m,\u001b[0m \u001b[0mindex\u001b[0m\u001b[1;33m=\u001b[0m\u001b[0mrange\u001b[0m\u001b[1;33m(\u001b[0m\u001b[1;36m2\u001b[0m\u001b[1;33m,\u001b[0m \u001b[1;36m78\u001b[0m\u001b[1;33m,\u001b[0m \u001b[1;36m2\u001b[0m\u001b[1;33m)\u001b[0m\u001b[1;33m)\u001b[0m\u001b[1;33m.\u001b[0m\u001b[0mplot\u001b[0m\u001b[1;33m(\u001b[0m\u001b[0mfigsize\u001b[0m\u001b[1;33m=\u001b[0m\u001b[1;33m(\u001b[0m\u001b[1;36m10\u001b[0m\u001b[1;33m,\u001b[0m \u001b[1;36m7\u001b[0m\u001b[1;33m)\u001b[0m\u001b[1;33m)\u001b[0m\u001b[1;33m\u001b[0m\u001b[1;33m\u001b[0m\u001b[0m\n\u001b[0m\u001b[0;32m      3\u001b[0m \u001b[1;31m#pd.Series(k_vs_reg, index=range(2, 30, 2)).plot(figsize=(10, 7))\u001b[0m\u001b[1;33m\u001b[0m\u001b[1;33m\u001b[0m\u001b[1;33m\u001b[0m\u001b[0m\n",
      "\u001b[1;32mC:\\ProgramData\\Anaconda3\\lib\\site-packages\\pandas\\core\\series.py\u001b[0m in \u001b[0;36m__init__\u001b[1;34m(self, data, index, dtype, name, copy, fastpath)\u001b[0m\n\u001b[0;32m    297\u001b[0m                         raise ValueError(\n\u001b[0;32m    298\u001b[0m                             \u001b[1;34m\"Length of passed values is {val}, \"\u001b[0m\u001b[1;33m\u001b[0m\u001b[1;33m\u001b[0m\u001b[0m\n\u001b[1;32m--> 299\u001b[1;33m                             \u001b[1;34m\"index implies {ind}\"\u001b[0m\u001b[1;33m.\u001b[0m\u001b[0mformat\u001b[0m\u001b[1;33m(\u001b[0m\u001b[0mval\u001b[0m\u001b[1;33m=\u001b[0m\u001b[0mlen\u001b[0m\u001b[1;33m(\u001b[0m\u001b[0mdata\u001b[0m\u001b[1;33m)\u001b[0m\u001b[1;33m,\u001b[0m \u001b[0mind\u001b[0m\u001b[1;33m=\u001b[0m\u001b[0mlen\u001b[0m\u001b[1;33m(\u001b[0m\u001b[0mindex\u001b[0m\u001b[1;33m)\u001b[0m\u001b[1;33m)\u001b[0m\u001b[1;33m\u001b[0m\u001b[1;33m\u001b[0m\u001b[0m\n\u001b[0m\u001b[0;32m    300\u001b[0m                         )\n\u001b[0;32m    301\u001b[0m                 \u001b[1;32mexcept\u001b[0m \u001b[0mTypeError\u001b[0m\u001b[1;33m:\u001b[0m\u001b[1;33m\u001b[0m\u001b[1;33m\u001b[0m\u001b[0m\n",
      "\u001b[1;31mValueError\u001b[0m: Length of passed values is 1, index implies 38"
     ]
    }
   ],
   "source": [
    "%matplotlib inline\n",
    "pd.Series(k_vs_mdl, index=range(2, 78, 2)).plot(figsize=(10, 7))\n",
    "#pd.Series(k_vs_reg, index=range(2, 30, 2)).plot(figsize=(10, 7))"
   ]
  },
  {
   "cell_type": "code",
   "execution_count": 32,
   "metadata": {},
   "outputs": [
    {
     "data": {
      "text/plain": [
       "NU_INSCRICAO         0.0\n",
       "CO_UF_RESIDENCIA     0.0\n",
       "SG_UF_RESIDENCIA     0.0\n",
       "NU_IDADE             0.0\n",
       "TP_SEXO              0.0\n",
       "TP_COR_RACA          0.0\n",
       "TP_NACIONALIDADE     0.0\n",
       "TP_ST_CONCLUSAO      0.0\n",
       "TP_ANO_CONCLUIU      0.0\n",
       "TP_ESCOLA            0.0\n",
       "IN_TREINEIRO         0.0\n",
       "IN_BAIXA_VISAO       0.0\n",
       "IN_CEGUEIRA          0.0\n",
       "IN_SURDEZ            0.0\n",
       "IN_DISLEXIA          0.0\n",
       "IN_DISCALCULIA       0.0\n",
       "IN_SABATISTA         0.0\n",
       "IN_GESTANTE          0.0\n",
       "IN_IDOSO             0.0\n",
       "TP_PRESENCA_CN       0.0\n",
       "TP_PRESENCA_CH       0.0\n",
       "TP_PRESENCA_LC       0.0\n",
       "CO_PROVA_LC          0.0\n",
       "CO_PROVA_MT          0.0\n",
       "NU_NOTA_CN           0.0\n",
       "NU_NOTA_CH           0.0\n",
       "NU_NOTA_LC           0.0\n",
       "TP_LINGUA            0.0\n",
       "TP_STATUS_REDACAO    0.0\n",
       "NU_NOTA_COMP1        0.0\n",
       "NU_NOTA_COMP2        0.0\n",
       "NU_NOTA_COMP3        0.0\n",
       "NU_NOTA_COMP4        0.0\n",
       "NU_NOTA_COMP5        0.0\n",
       "NU_NOTA_REDACAO      0.0\n",
       "Q001                 0.0\n",
       "Q002                 0.0\n",
       "Q006                 0.0\n",
       "Q024                 0.0\n",
       "Q025                 0.0\n",
       "Q026                 0.0\n",
       "Q047                 0.0\n",
       "dtype: float64"
      ]
     },
     "execution_count": 32,
     "metadata": {},
     "output_type": "execute_result"
    }
   ],
   "source": [
    "# tratando os dados de teste\n",
    "df_test.isna().mean()"
   ]
  },
  {
   "cell_type": "code",
   "execution_count": 33,
   "metadata": {},
   "outputs": [
    {
     "data": {
      "text/plain": [
       "(3360, 42)"
      ]
     },
     "execution_count": 33,
     "metadata": {},
     "output_type": "execute_result"
    }
   ],
   "source": [
    "df_test.shape"
   ]
  },
  {
   "cell_type": "code",
   "execution_count": 54,
   "metadata": {},
   "outputs": [
    {
     "data": {
      "text/plain": [
       "0"
      ]
     },
     "execution_count": 54,
     "metadata": {},
     "output_type": "execute_result"
    }
   ],
   "source": [
    "df_test.NU_INSCRICAO.isna().sum()"
   ]
  },
  {
   "cell_type": "code",
   "execution_count": 69,
   "metadata": {},
   "outputs": [
    {
     "data": {
      "text/html": [
       "<div>\n",
       "<style scoped>\n",
       "    .dataframe tbody tr th:only-of-type {\n",
       "        vertical-align: middle;\n",
       "    }\n",
       "\n",
       "    .dataframe tbody tr th {\n",
       "        vertical-align: top;\n",
       "    }\n",
       "\n",
       "    .dataframe thead th {\n",
       "        text-align: right;\n",
       "    }\n",
       "</style>\n",
       "<table border=\"1\" class=\"dataframe\">\n",
       "  <thead>\n",
       "    <tr style=\"text-align: right;\">\n",
       "      <th></th>\n",
       "      <th>NU_NOTA_MT</th>\n",
       "    </tr>\n",
       "  </thead>\n",
       "  <tbody>\n",
       "    <tr>\n",
       "      <td>0</td>\n",
       "      <td>426.438</td>\n",
       "    </tr>\n",
       "    <tr>\n",
       "      <td>1</td>\n",
       "      <td>445.994</td>\n",
       "    </tr>\n",
       "    <tr>\n",
       "      <td>2</td>\n",
       "      <td>594.685</td>\n",
       "    </tr>\n",
       "    <tr>\n",
       "      <td>3</td>\n",
       "      <td>530.136</td>\n",
       "    </tr>\n",
       "    <tr>\n",
       "      <td>4</td>\n",
       "      <td>475.578</td>\n",
       "    </tr>\n",
       "  </tbody>\n",
       "</table>\n",
       "</div>"
      ],
      "text/plain": [
       "   NU_NOTA_MT\n",
       "0     426.438\n",
       "1     445.994\n",
       "2     594.685\n",
       "3     530.136\n",
       "4     475.578"
      ]
     },
     "execution_count": 69,
     "metadata": {},
     "output_type": "execute_result"
    }
   ],
   "source": [
    "df_notas = pd.DataFrame(p.round(3), columns=['NU_NOTA_MT'])\n",
    "df_notas.head()"
   ]
  },
  {
   "cell_type": "code",
   "execution_count": 70,
   "metadata": {},
   "outputs": [],
   "source": [
    "df_notas_reg = pd.DataFrame(regres, columns=['NU_NOTA_MT']) "
   ]
  },
  {
   "cell_type": "code",
   "execution_count": 71,
   "metadata": {},
   "outputs": [
    {
     "data": {
      "text/plain": [
       "(3360, 1)"
      ]
     },
     "execution_count": 71,
     "metadata": {},
     "output_type": "execute_result"
    }
   ],
   "source": [
    "df_notas.shape"
   ]
  },
  {
   "cell_type": "code",
   "execution_count": 72,
   "metadata": {},
   "outputs": [
    {
     "data": {
      "text/plain": [
       "(3360, 43)"
      ]
     },
     "execution_count": 72,
     "metadata": {},
     "output_type": "execute_result"
    }
   ],
   "source": [
    "df_test.shape"
   ]
  },
  {
   "cell_type": "code",
   "execution_count": 73,
   "metadata": {},
   "outputs": [
    {
     "data": {
      "text/html": [
       "<div>\n",
       "<style scoped>\n",
       "    .dataframe tbody tr th:only-of-type {\n",
       "        vertical-align: middle;\n",
       "    }\n",
       "\n",
       "    .dataframe tbody tr th {\n",
       "        vertical-align: top;\n",
       "    }\n",
       "\n",
       "    .dataframe thead th {\n",
       "        text-align: right;\n",
       "    }\n",
       "</style>\n",
       "<table border=\"1\" class=\"dataframe\">\n",
       "  <thead>\n",
       "    <tr style=\"text-align: right;\">\n",
       "      <th></th>\n",
       "      <th>NU_NOTA_MT</th>\n",
       "    </tr>\n",
       "  </thead>\n",
       "  <tbody>\n",
       "    <tr>\n",
       "      <td>0</td>\n",
       "      <td>426.438</td>\n",
       "    </tr>\n",
       "    <tr>\n",
       "      <td>1</td>\n",
       "      <td>445.994</td>\n",
       "    </tr>\n",
       "    <tr>\n",
       "      <td>2</td>\n",
       "      <td>594.685</td>\n",
       "    </tr>\n",
       "    <tr>\n",
       "      <td>3</td>\n",
       "      <td>530.136</td>\n",
       "    </tr>\n",
       "    <tr>\n",
       "      <td>4</td>\n",
       "      <td>475.578</td>\n",
       "    </tr>\n",
       "  </tbody>\n",
       "</table>\n",
       "</div>"
      ],
      "text/plain": [
       "   NU_NOTA_MT\n",
       "0     426.438\n",
       "1     445.994\n",
       "2     594.685\n",
       "3     530.136\n",
       "4     475.578"
      ]
     },
     "execution_count": 73,
     "metadata": {},
     "output_type": "execute_result"
    }
   ],
   "source": [
    "df_notas.head()"
   ]
  },
  {
   "cell_type": "code",
   "execution_count": 74,
   "metadata": {},
   "outputs": [],
   "source": [
    "df_test.reset_index(inplace=True)"
   ]
  },
  {
   "cell_type": "code",
   "execution_count": 75,
   "metadata": {},
   "outputs": [
    {
     "data": {
      "text/plain": [
       "0"
      ]
     },
     "execution_count": 75,
     "metadata": {},
     "output_type": "execute_result"
    }
   ],
   "source": [
    "#df_answer = pd.concat([test_nu_inscricao, df_test, df_notas], axis=1).reset_index()\n",
    "#df_answer = pd.concat([test_nu_inscricao, df_test, df_notas_reg], axis=1).reset_index()\n",
    "\n",
    "#Linear Regression\n",
    "#df_answer = pd.concat([df_test, df_notas_reg], axis=1).reset_index()\n",
    "\n",
    "#MDL\n",
    "df_answer = pd.concat([df_test, df_notas], axis=1)\n",
    "\n",
    "df_answer.NU_INSCRICAO.isna().sum()"
   ]
  },
  {
   "cell_type": "code",
   "execution_count": 76,
   "metadata": {},
   "outputs": [
    {
     "data": {
      "text/html": [
       "<div>\n",
       "<style scoped>\n",
       "    .dataframe tbody tr th:only-of-type {\n",
       "        vertical-align: middle;\n",
       "    }\n",
       "\n",
       "    .dataframe tbody tr th {\n",
       "        vertical-align: top;\n",
       "    }\n",
       "\n",
       "    .dataframe thead th {\n",
       "        text-align: right;\n",
       "    }\n",
       "</style>\n",
       "<table border=\"1\" class=\"dataframe\">\n",
       "  <thead>\n",
       "    <tr style=\"text-align: right;\">\n",
       "      <th></th>\n",
       "      <th>level_0</th>\n",
       "      <th>index</th>\n",
       "      <th>NU_INSCRICAO</th>\n",
       "      <th>CO_UF_RESIDENCIA</th>\n",
       "      <th>SG_UF_RESIDENCIA</th>\n",
       "      <th>NU_IDADE</th>\n",
       "      <th>TP_SEXO</th>\n",
       "      <th>TP_COR_RACA</th>\n",
       "      <th>TP_NACIONALIDADE</th>\n",
       "      <th>TP_ST_CONCLUSAO</th>\n",
       "      <th>...</th>\n",
       "      <th>NU_NOTA_COMP5</th>\n",
       "      <th>NU_NOTA_REDACAO</th>\n",
       "      <th>Q001</th>\n",
       "      <th>Q002</th>\n",
       "      <th>Q006</th>\n",
       "      <th>Q024</th>\n",
       "      <th>Q025</th>\n",
       "      <th>Q026</th>\n",
       "      <th>Q047</th>\n",
       "      <th>NU_NOTA_MT</th>\n",
       "    </tr>\n",
       "  </thead>\n",
       "  <tbody>\n",
       "    <tr>\n",
       "      <td>0</td>\n",
       "      <td>0</td>\n",
       "      <td>0</td>\n",
       "      <td>73ff9fcc02f0a99919906c942c2e1a1042cdcf98</td>\n",
       "      <td>41</td>\n",
       "      <td>PR</td>\n",
       "      <td>22</td>\n",
       "      <td>F</td>\n",
       "      <td>3</td>\n",
       "      <td>1</td>\n",
       "      <td>1</td>\n",
       "      <td>...</td>\n",
       "      <td>40.0</td>\n",
       "      <td>420.0</td>\n",
       "      <td>B</td>\n",
       "      <td>A</td>\n",
       "      <td>C</td>\n",
       "      <td>A</td>\n",
       "      <td>A</td>\n",
       "      <td>C</td>\n",
       "      <td>A</td>\n",
       "      <td>426.438</td>\n",
       "    </tr>\n",
       "    <tr>\n",
       "      <td>1</td>\n",
       "      <td>1</td>\n",
       "      <td>1</td>\n",
       "      <td>71a95f9f1b91a82c65ad94abbdf9f54e6066f968</td>\n",
       "      <td>21</td>\n",
       "      <td>MA</td>\n",
       "      <td>26</td>\n",
       "      <td>F</td>\n",
       "      <td>3</td>\n",
       "      <td>1</td>\n",
       "      <td>1</td>\n",
       "      <td>...</td>\n",
       "      <td>100.0</td>\n",
       "      <td>580.0</td>\n",
       "      <td>E</td>\n",
       "      <td>B</td>\n",
       "      <td>C</td>\n",
       "      <td>B</td>\n",
       "      <td>B</td>\n",
       "      <td>B</td>\n",
       "      <td>A</td>\n",
       "      <td>445.994</td>\n",
       "    </tr>\n",
       "    <tr>\n",
       "      <td>2</td>\n",
       "      <td>2</td>\n",
       "      <td>2</td>\n",
       "      <td>b38a03232f43b11c9d0788abaf060f7366053b6d</td>\n",
       "      <td>23</td>\n",
       "      <td>CE</td>\n",
       "      <td>21</td>\n",
       "      <td>M</td>\n",
       "      <td>1</td>\n",
       "      <td>1</td>\n",
       "      <td>2</td>\n",
       "      <td>...</td>\n",
       "      <td>80.0</td>\n",
       "      <td>320.0</td>\n",
       "      <td>E</td>\n",
       "      <td>E</td>\n",
       "      <td>D</td>\n",
       "      <td>B</td>\n",
       "      <td>B</td>\n",
       "      <td>A</td>\n",
       "      <td>A</td>\n",
       "      <td>594.685</td>\n",
       "    </tr>\n",
       "    <tr>\n",
       "      <td>3</td>\n",
       "      <td>3</td>\n",
       "      <td>4</td>\n",
       "      <td>715494628a50142ce8cb17191cfe6d0f3cae0934</td>\n",
       "      <td>41</td>\n",
       "      <td>PR</td>\n",
       "      <td>18</td>\n",
       "      <td>M</td>\n",
       "      <td>1</td>\n",
       "      <td>1</td>\n",
       "      <td>2</td>\n",
       "      <td>...</td>\n",
       "      <td>0.0</td>\n",
       "      <td>320.0</td>\n",
       "      <td>D</td>\n",
       "      <td>H</td>\n",
       "      <td>H</td>\n",
       "      <td>C</td>\n",
       "      <td>B</td>\n",
       "      <td>A</td>\n",
       "      <td>A</td>\n",
       "      <td>530.136</td>\n",
       "    </tr>\n",
       "    <tr>\n",
       "      <td>4</td>\n",
       "      <td>4</td>\n",
       "      <td>5</td>\n",
       "      <td>e656d6bad65c93fb2880f1eba5037008c8e75774</td>\n",
       "      <td>43</td>\n",
       "      <td>RS</td>\n",
       "      <td>18</td>\n",
       "      <td>M</td>\n",
       "      <td>3</td>\n",
       "      <td>1</td>\n",
       "      <td>1</td>\n",
       "      <td>...</td>\n",
       "      <td>80.0</td>\n",
       "      <td>560.0</td>\n",
       "      <td>E</td>\n",
       "      <td>E</td>\n",
       "      <td>C</td>\n",
       "      <td>B</td>\n",
       "      <td>B</td>\n",
       "      <td>A</td>\n",
       "      <td>A</td>\n",
       "      <td>475.578</td>\n",
       "    </tr>\n",
       "  </tbody>\n",
       "</table>\n",
       "<p>5 rows × 45 columns</p>\n",
       "</div>"
      ],
      "text/plain": [
       "   level_0  index                              NU_INSCRICAO  CO_UF_RESIDENCIA  \\\n",
       "0        0      0  73ff9fcc02f0a99919906c942c2e1a1042cdcf98                41   \n",
       "1        1      1  71a95f9f1b91a82c65ad94abbdf9f54e6066f968                21   \n",
       "2        2      2  b38a03232f43b11c9d0788abaf060f7366053b6d                23   \n",
       "3        3      4  715494628a50142ce8cb17191cfe6d0f3cae0934                41   \n",
       "4        4      5  e656d6bad65c93fb2880f1eba5037008c8e75774                43   \n",
       "\n",
       "  SG_UF_RESIDENCIA  NU_IDADE TP_SEXO  TP_COR_RACA  TP_NACIONALIDADE  \\\n",
       "0               PR        22       F            3                 1   \n",
       "1               MA        26       F            3                 1   \n",
       "2               CE        21       M            1                 1   \n",
       "3               PR        18       M            1                 1   \n",
       "4               RS        18       M            3                 1   \n",
       "\n",
       "   TP_ST_CONCLUSAO  ...  NU_NOTA_COMP5  NU_NOTA_REDACAO  Q001  Q002  Q006  \\\n",
       "0                1  ...           40.0            420.0     B     A     C   \n",
       "1                1  ...          100.0            580.0     E     B     C   \n",
       "2                2  ...           80.0            320.0     E     E     D   \n",
       "3                2  ...            0.0            320.0     D     H     H   \n",
       "4                1  ...           80.0            560.0     E     E     C   \n",
       "\n",
       "   Q024  Q025  Q026  Q047  NU_NOTA_MT  \n",
       "0     A     A     C     A     426.438  \n",
       "1     B     B     B     A     445.994  \n",
       "2     B     B     A     A     594.685  \n",
       "3     C     B     A     A     530.136  \n",
       "4     B     B     A     A     475.578  \n",
       "\n",
       "[5 rows x 45 columns]"
      ]
     },
     "execution_count": 76,
     "metadata": {},
     "output_type": "execute_result"
    }
   ],
   "source": [
    "df_answer.head()"
   ]
  },
  {
   "cell_type": "code",
   "execution_count": 77,
   "metadata": {},
   "outputs": [],
   "source": [
    "cols_to_keep = ['NU_INSCRICAO', 'NU_NOTA_MT']\n",
    "#df_answer = df_answer[cols_to_keep]"
   ]
  },
  {
   "cell_type": "code",
   "execution_count": 78,
   "metadata": {},
   "outputs": [
    {
     "data": {
      "text/html": [
       "<div>\n",
       "<style scoped>\n",
       "    .dataframe tbody tr th:only-of-type {\n",
       "        vertical-align: middle;\n",
       "    }\n",
       "\n",
       "    .dataframe tbody tr th {\n",
       "        vertical-align: top;\n",
       "    }\n",
       "\n",
       "    .dataframe thead th {\n",
       "        text-align: right;\n",
       "    }\n",
       "</style>\n",
       "<table border=\"1\" class=\"dataframe\">\n",
       "  <thead>\n",
       "    <tr style=\"text-align: right;\">\n",
       "      <th></th>\n",
       "      <th>level_0</th>\n",
       "      <th>index</th>\n",
       "      <th>NU_INSCRICAO</th>\n",
       "      <th>CO_UF_RESIDENCIA</th>\n",
       "      <th>SG_UF_RESIDENCIA</th>\n",
       "      <th>NU_IDADE</th>\n",
       "      <th>TP_SEXO</th>\n",
       "      <th>TP_COR_RACA</th>\n",
       "      <th>TP_NACIONALIDADE</th>\n",
       "      <th>TP_ST_CONCLUSAO</th>\n",
       "      <th>...</th>\n",
       "      <th>NU_NOTA_COMP5</th>\n",
       "      <th>NU_NOTA_REDACAO</th>\n",
       "      <th>Q001</th>\n",
       "      <th>Q002</th>\n",
       "      <th>Q006</th>\n",
       "      <th>Q024</th>\n",
       "      <th>Q025</th>\n",
       "      <th>Q026</th>\n",
       "      <th>Q047</th>\n",
       "      <th>NU_NOTA_MT</th>\n",
       "    </tr>\n",
       "  </thead>\n",
       "  <tbody>\n",
       "    <tr>\n",
       "      <td>0</td>\n",
       "      <td>0</td>\n",
       "      <td>0</td>\n",
       "      <td>73ff9fcc02f0a99919906c942c2e1a1042cdcf98</td>\n",
       "      <td>41</td>\n",
       "      <td>PR</td>\n",
       "      <td>22</td>\n",
       "      <td>F</td>\n",
       "      <td>3</td>\n",
       "      <td>1</td>\n",
       "      <td>1</td>\n",
       "      <td>...</td>\n",
       "      <td>40.0</td>\n",
       "      <td>420.0</td>\n",
       "      <td>B</td>\n",
       "      <td>A</td>\n",
       "      <td>C</td>\n",
       "      <td>A</td>\n",
       "      <td>A</td>\n",
       "      <td>C</td>\n",
       "      <td>A</td>\n",
       "      <td>426.438</td>\n",
       "    </tr>\n",
       "    <tr>\n",
       "      <td>1</td>\n",
       "      <td>1</td>\n",
       "      <td>1</td>\n",
       "      <td>71a95f9f1b91a82c65ad94abbdf9f54e6066f968</td>\n",
       "      <td>21</td>\n",
       "      <td>MA</td>\n",
       "      <td>26</td>\n",
       "      <td>F</td>\n",
       "      <td>3</td>\n",
       "      <td>1</td>\n",
       "      <td>1</td>\n",
       "      <td>...</td>\n",
       "      <td>100.0</td>\n",
       "      <td>580.0</td>\n",
       "      <td>E</td>\n",
       "      <td>B</td>\n",
       "      <td>C</td>\n",
       "      <td>B</td>\n",
       "      <td>B</td>\n",
       "      <td>B</td>\n",
       "      <td>A</td>\n",
       "      <td>445.994</td>\n",
       "    </tr>\n",
       "    <tr>\n",
       "      <td>2</td>\n",
       "      <td>2</td>\n",
       "      <td>2</td>\n",
       "      <td>b38a03232f43b11c9d0788abaf060f7366053b6d</td>\n",
       "      <td>23</td>\n",
       "      <td>CE</td>\n",
       "      <td>21</td>\n",
       "      <td>M</td>\n",
       "      <td>1</td>\n",
       "      <td>1</td>\n",
       "      <td>2</td>\n",
       "      <td>...</td>\n",
       "      <td>80.0</td>\n",
       "      <td>320.0</td>\n",
       "      <td>E</td>\n",
       "      <td>E</td>\n",
       "      <td>D</td>\n",
       "      <td>B</td>\n",
       "      <td>B</td>\n",
       "      <td>A</td>\n",
       "      <td>A</td>\n",
       "      <td>594.685</td>\n",
       "    </tr>\n",
       "    <tr>\n",
       "      <td>3</td>\n",
       "      <td>3</td>\n",
       "      <td>4</td>\n",
       "      <td>715494628a50142ce8cb17191cfe6d0f3cae0934</td>\n",
       "      <td>41</td>\n",
       "      <td>PR</td>\n",
       "      <td>18</td>\n",
       "      <td>M</td>\n",
       "      <td>1</td>\n",
       "      <td>1</td>\n",
       "      <td>2</td>\n",
       "      <td>...</td>\n",
       "      <td>0.0</td>\n",
       "      <td>320.0</td>\n",
       "      <td>D</td>\n",
       "      <td>H</td>\n",
       "      <td>H</td>\n",
       "      <td>C</td>\n",
       "      <td>B</td>\n",
       "      <td>A</td>\n",
       "      <td>A</td>\n",
       "      <td>530.136</td>\n",
       "    </tr>\n",
       "    <tr>\n",
       "      <td>4</td>\n",
       "      <td>4</td>\n",
       "      <td>5</td>\n",
       "      <td>e656d6bad65c93fb2880f1eba5037008c8e75774</td>\n",
       "      <td>43</td>\n",
       "      <td>RS</td>\n",
       "      <td>18</td>\n",
       "      <td>M</td>\n",
       "      <td>3</td>\n",
       "      <td>1</td>\n",
       "      <td>1</td>\n",
       "      <td>...</td>\n",
       "      <td>80.0</td>\n",
       "      <td>560.0</td>\n",
       "      <td>E</td>\n",
       "      <td>E</td>\n",
       "      <td>C</td>\n",
       "      <td>B</td>\n",
       "      <td>B</td>\n",
       "      <td>A</td>\n",
       "      <td>A</td>\n",
       "      <td>475.578</td>\n",
       "    </tr>\n",
       "  </tbody>\n",
       "</table>\n",
       "<p>5 rows × 45 columns</p>\n",
       "</div>"
      ],
      "text/plain": [
       "   level_0  index                              NU_INSCRICAO  CO_UF_RESIDENCIA  \\\n",
       "0        0      0  73ff9fcc02f0a99919906c942c2e1a1042cdcf98                41   \n",
       "1        1      1  71a95f9f1b91a82c65ad94abbdf9f54e6066f968                21   \n",
       "2        2      2  b38a03232f43b11c9d0788abaf060f7366053b6d                23   \n",
       "3        3      4  715494628a50142ce8cb17191cfe6d0f3cae0934                41   \n",
       "4        4      5  e656d6bad65c93fb2880f1eba5037008c8e75774                43   \n",
       "\n",
       "  SG_UF_RESIDENCIA  NU_IDADE TP_SEXO  TP_COR_RACA  TP_NACIONALIDADE  \\\n",
       "0               PR        22       F            3                 1   \n",
       "1               MA        26       F            3                 1   \n",
       "2               CE        21       M            1                 1   \n",
       "3               PR        18       M            1                 1   \n",
       "4               RS        18       M            3                 1   \n",
       "\n",
       "   TP_ST_CONCLUSAO  ...  NU_NOTA_COMP5  NU_NOTA_REDACAO  Q001  Q002  Q006  \\\n",
       "0                1  ...           40.0            420.0     B     A     C   \n",
       "1                1  ...          100.0            580.0     E     B     C   \n",
       "2                2  ...           80.0            320.0     E     E     D   \n",
       "3                2  ...            0.0            320.0     D     H     H   \n",
       "4                1  ...           80.0            560.0     E     E     C   \n",
       "\n",
       "   Q024  Q025  Q026  Q047  NU_NOTA_MT  \n",
       "0     A     A     C     A     426.438  \n",
       "1     B     B     B     A     445.994  \n",
       "2     B     B     A     A     594.685  \n",
       "3     C     B     A     A     530.136  \n",
       "4     B     B     A     A     475.578  \n",
       "\n",
       "[5 rows x 45 columns]"
      ]
     },
     "execution_count": 78,
     "metadata": {},
     "output_type": "execute_result"
    }
   ],
   "source": [
    "df_answer.head()"
   ]
  },
  {
   "cell_type": "code",
   "execution_count": 79,
   "metadata": {},
   "outputs": [],
   "source": [
    "# 92.95% só usando variáveis numéricas - random Forest\n",
    "# 92.94 usando get_dummies - random Forest\n",
    "\n",
    "# 92.96 usando get_dummies - Linear Regression\n",
    "\n",
    "#92.98 usando só dados numéricos\n",
    "\n",
    "#93.58 usando apenas dados numéricos\n",
    "df_answer.to_csv('answer.csv', columns=cols_to_keep, index=False)"
   ]
  },
  {
   "cell_type": "code",
   "execution_count": 80,
   "metadata": {},
   "outputs": [
    {
     "data": {
      "text/html": [
       "<div>\n",
       "<style scoped>\n",
       "    .dataframe tbody tr th:only-of-type {\n",
       "        vertical-align: middle;\n",
       "    }\n",
       "\n",
       "    .dataframe tbody tr th {\n",
       "        vertical-align: top;\n",
       "    }\n",
       "\n",
       "    .dataframe thead th {\n",
       "        text-align: right;\n",
       "    }\n",
       "</style>\n",
       "<table border=\"1\" class=\"dataframe\">\n",
       "  <thead>\n",
       "    <tr style=\"text-align: right;\">\n",
       "      <th></th>\n",
       "      <th>NU_INSCRICAO</th>\n",
       "      <th>NU_NOTA_MT</th>\n",
       "    </tr>\n",
       "  </thead>\n",
       "  <tbody>\n",
       "    <tr>\n",
       "      <td>0</td>\n",
       "      <td>73ff9fcc02f0a99919906c942c2e1a1042cdcf98</td>\n",
       "      <td>426.438</td>\n",
       "    </tr>\n",
       "    <tr>\n",
       "      <td>1</td>\n",
       "      <td>71a95f9f1b91a82c65ad94abbdf9f54e6066f968</td>\n",
       "      <td>445.994</td>\n",
       "    </tr>\n",
       "    <tr>\n",
       "      <td>2</td>\n",
       "      <td>b38a03232f43b11c9d0788abaf060f7366053b6d</td>\n",
       "      <td>594.685</td>\n",
       "    </tr>\n",
       "    <tr>\n",
       "      <td>3</td>\n",
       "      <td>715494628a50142ce8cb17191cfe6d0f3cae0934</td>\n",
       "      <td>530.136</td>\n",
       "    </tr>\n",
       "    <tr>\n",
       "      <td>4</td>\n",
       "      <td>e656d6bad65c93fb2880f1eba5037008c8e75774</td>\n",
       "      <td>475.578</td>\n",
       "    </tr>\n",
       "  </tbody>\n",
       "</table>\n",
       "</div>"
      ],
      "text/plain": [
       "                               NU_INSCRICAO  NU_NOTA_MT\n",
       "0  73ff9fcc02f0a99919906c942c2e1a1042cdcf98     426.438\n",
       "1  71a95f9f1b91a82c65ad94abbdf9f54e6066f968     445.994\n",
       "2  b38a03232f43b11c9d0788abaf060f7366053b6d     594.685\n",
       "3  715494628a50142ce8cb17191cfe6d0f3cae0934     530.136\n",
       "4  e656d6bad65c93fb2880f1eba5037008c8e75774     475.578"
      ]
     },
     "execution_count": 80,
     "metadata": {},
     "output_type": "execute_result"
    }
   ],
   "source": [
    "df=pd.read_csv('answer.csv')\n",
    "df.head()"
   ]
  },
  {
   "cell_type": "code",
   "execution_count": 81,
   "metadata": {},
   "outputs": [
    {
     "data": {
      "text/plain": [
       "0"
      ]
     },
     "execution_count": 81,
     "metadata": {},
     "output_type": "execute_result"
    }
   ],
   "source": [
    "df['NU_INSCRICAO'].isna().sum()"
   ]
  },
  {
   "cell_type": "code",
   "execution_count": 82,
   "metadata": {},
   "outputs": [
    {
     "data": {
      "text/plain": [
       "0"
      ]
     },
     "execution_count": 82,
     "metadata": {},
     "output_type": "execute_result"
    }
   ],
   "source": [
    "pd.isnull(df.NU_INSCRICAO).sum()"
   ]
  },
  {
   "cell_type": "code",
   "execution_count": null,
   "metadata": {},
   "outputs": [],
   "source": []
  }
 ],
 "metadata": {
  "kernelspec": {
   "display_name": "Python 3",
   "language": "python",
   "name": "python3"
  },
  "language_info": {
   "codemirror_mode": {
    "name": "ipython",
    "version": 3
   },
   "file_extension": ".py",
   "mimetype": "text/x-python",
   "name": "python",
   "nbconvert_exporter": "python",
   "pygments_lexer": "ipython3",
   "version": "3.7.4"
  }
 },
 "nbformat": 4,
 "nbformat_minor": 2
}
